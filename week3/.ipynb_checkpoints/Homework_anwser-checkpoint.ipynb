{
 "cells": [
  {
   "cell_type": "markdown",
   "metadata": {},
   "source": [
    "# 上周作业答案\n",
    "> 1.写十个人的object(用dict)，包含姓名（String），年龄（Int），出生地（String），兴趣爱好（list）。完成后，将这个10个写好的dict组合成一个list，按照年龄排好序，并且打印出来\n",
    "\n",
    "> 2.删除位置在第二个的值，再次打印list\n",
    "\n",
    "> 3.修改其中的一个名字，打印完整list"
   ]
  },
  {
   "cell_type": "code",
   "execution_count": 2,
   "metadata": {},
   "outputs": [],
   "source": [
    "p1={\"Name\":\"Frank\",\"age\":13,\"Birth Place\":\"Shanghai\",\"Interests\":[\"basketball\",\"soccer\"]}\n",
    "p2={\"Name\":\"Tom\",\"age\":32,\"Birth Place\":\"Qingdao\",\"Interests\":[\"Painting\",\"soccer\"]}\n",
    "p3={\"Name\":\"Lee\",\"age\":77,\"Birth Place\":\"Shanghai\",\"Interests\":[\"basketball\",\"soccer\"]}\n",
    "p4={\"Name\":\"Lucy\",\"age\":77,\"Birth Place\":\"Shanghai\",\"Interests\":[\"basketball\",\"soccer\"]}\n",
    "p3={\"Name\":\"Mike\",\"age\":77,\"Birth Place\":\"Shanghai\",\"Interests\":[\"basketball\",\"soccer\"]}\n",
    "p3={\"Name\":\"Johny\",\"age\":77,\"Birth Place\":\"Shanghai\",\"Interests\":[\"basketball\",\"soccer\"]}\n",
    "p3={\"Name\":\"Ted\",\"age\":77,\"Birth Place\":\"Shanghai\",\"Interests\":[\"basketball\",\"soccer\"]}\n",
    "p3={\"Name\":\"Micheal\",\"age\":77,\"Birth Place\":\"Shanghai\",\"Interests\":[\"basketball\",\"soccer\"]}\n",
    "p3={\"Name\":\"Chen\",\"age\":77,\"Birth Place\":\"Shanghai\",\"Interests\":[\"basketball\",\"soccer\"]}\n"
   ]
  },
  {
   "cell_type": "code",
   "execution_count": 3,
   "metadata": {},
   "outputs": [
    {
     "data": {
      "text/plain": [
       "{'Birth Place': 'Shanghai',\n",
       " 'Interests': ['basketball', 'soccer'],\n",
       " 'Name': 'Frank',\n",
       " 'age': 13}"
      ]
     },
     "execution_count": 3,
     "metadata": {},
     "output_type": "execute_result"
    }
   ],
   "source": [
    "p1"
   ]
  },
  {
   "cell_type": "code",
   "execution_count": null,
   "metadata": {
    "collapsed": true
   },
   "outputs": [],
   "source": []
  }
 ],
 "metadata": {
  "kernelspec": {
   "display_name": "Python 3",
   "language": "python",
   "name": "python3"
  },
  "language_info": {
   "codemirror_mode": {
    "name": "ipython",
    "version": 3
   },
   "file_extension": ".py",
   "mimetype": "text/x-python",
   "name": "python",
   "nbconvert_exporter": "python",
   "pygments_lexer": "ipython3",
   "version": "3.6.2"
  }
 },
 "nbformat": 4,
 "nbformat_minor": 2
}
