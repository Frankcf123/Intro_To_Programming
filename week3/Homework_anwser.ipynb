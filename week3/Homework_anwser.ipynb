{
 "cells": [
  {
   "cell_type": "markdown",
   "metadata": {},
   "source": [
    "# 上周作业答案\n",
    "> 1.写十个人的object(用dict)，包含姓名（String），年龄（Int），出生地（String），兴趣爱好（list）。完成后，将这个10个写好的dict组合成一个list，按照年龄排好序，并且打印出来\n",
    "\n",
    "> 2.删除位置在第二个的值，再次打印list\n",
    "\n",
    "> 3.修改其中的一个名字，打印完整list"
   ]
  },
  {
   "cell_type": "code",
   "execution_count": 5,
   "metadata": {},
   "outputs": [],
   "source": [
    "p1={\"Name\":\"Frank\",\"age\":13,\"Birth Place\":\"Shanghai\",\"Interests\":[\"basketball\",\"soccer\"]}\n",
    "p2={\"Name\":\"Tom\",\"age\":32,\"Birth Place\":\"Qingdao\",\"Interests\":[\"Painting\",\"soccer\"]}\n",
    "p3={\"Name\":\"Lee\",\"age\":77,\"Birth Place\":\"Shanghai\",\"Interests\":[\"basketball\",\"soccer\"]}\n",
    "p4={\"Name\":\"Lucy\",\"age\":11,\"Birth Place\":\"Shanghai\",\"Interests\":[\"basketball\",\"soccer\"]}\n",
    "p5={\"Name\":\"Mike\",\"age\":65,\"Birth Place\":\"Shanghai\",\"Interests\":[\"basketball\",\"soccer\"]}\n",
    "p6={\"Name\":\"Johny\",\"age\":45,\"Birth Place\":\"Shanghai\",\"Interests\":[\"basketball\",\"soccer\"]}\n",
    "p7={\"Name\":\"Ted\",\"age\":43,\"Birth Place\":\"Shanghai\",\"Interests\":[\"basketball\",\"soccer\"]}\n",
    "p8={\"Name\":\"Micheal\",\"age\":33,\"Birth Place\":\"Shanghai\",\"Interests\":[\"basketball\",\"soccer\"]}\n",
    "p9={\"Name\":\"Chen\",\"age\":15,\"Birth Place\":\"Shanghai\",\"Interests\":[\"basketball\",\"soccer\"]}\n",
    "p10={\"Name\":\"Liu\",\"age\":32,\"Birth Place\":\"Shanghai\",\"Interests\":[\"basketball\",\"soccer\"]}\n"
   ]
  },
  {
   "cell_type": "code",
   "execution_count": 8,
   "metadata": {},
   "outputs": [],
   "source": [
    "plist=[p1,p2,p3,p4,p5,p6,p7,p8,p9,p10]"
   ]
  },
  {
   "cell_type": "code",
   "execution_count": 9,
   "metadata": {},
   "outputs": [
    {
     "data": {
      "text/plain": [
       "[{'Birth Place': 'Shanghai',\n",
       "  'Interests': ['basketball', 'soccer'],\n",
       "  'Name': 'Frank',\n",
       "  'age': 13},\n",
       " {'Birth Place': 'Qingdao',\n",
       "  'Interests': ['Painting', 'soccer'],\n",
       "  'Name': 'Tom',\n",
       "  'age': 32},\n",
       " {'Birth Place': 'Shanghai',\n",
       "  'Interests': ['basketball', 'soccer'],\n",
       "  'Name': 'Lee',\n",
       "  'age': 77},\n",
       " {'Birth Place': 'Shanghai',\n",
       "  'Interests': ['basketball', 'soccer'],\n",
       "  'Name': 'Lucy',\n",
       "  'age': 11},\n",
       " {'Birth Place': 'Shanghai',\n",
       "  'Interests': ['basketball', 'soccer'],\n",
       "  'Name': 'Mike',\n",
       "  'age': 65},\n",
       " {'Birth Place': 'Shanghai',\n",
       "  'Interests': ['basketball', 'soccer'],\n",
       "  'Name': 'Johny',\n",
       "  'age': 45},\n",
       " {'Birth Place': 'Shanghai',\n",
       "  'Interests': ['basketball', 'soccer'],\n",
       "  'Name': 'Ted',\n",
       "  'age': 43},\n",
       " {'Birth Place': 'Shanghai',\n",
       "  'Interests': ['basketball', 'soccer'],\n",
       "  'Name': 'Micheal',\n",
       "  'age': 33},\n",
       " {'Birth Place': 'Shanghai',\n",
       "  'Interests': ['basketball', 'soccer'],\n",
       "  'Name': 'Chen',\n",
       "  'age': 15},\n",
       " {'Birth Place': 'Shanghai',\n",
       "  'Interests': ['basketball', 'soccer'],\n",
       "  'Name': 'Liu',\n",
       "  'age': 32}]"
      ]
     },
     "execution_count": 9,
     "metadata": {},
     "output_type": "execute_result"
    }
   ],
   "source": [
    "plist"
   ]
  },
  {
   "cell_type": "code",
   "execution_count": 10,
   "metadata": {
    "collapsed": true
   },
   "outputs": [],
   "source": [
    "plist.sort(key=lambda x: x['age'])"
   ]
  },
  {
   "cell_type": "code",
   "execution_count": 11,
   "metadata": {},
   "outputs": [
    {
     "data": {
      "text/plain": [
       "[{'Birth Place': 'Shanghai',\n",
       "  'Interests': ['basketball', 'soccer'],\n",
       "  'Name': 'Lucy',\n",
       "  'age': 11},\n",
       " {'Birth Place': 'Shanghai',\n",
       "  'Interests': ['basketball', 'soccer'],\n",
       "  'Name': 'Frank',\n",
       "  'age': 13},\n",
       " {'Birth Place': 'Shanghai',\n",
       "  'Interests': ['basketball', 'soccer'],\n",
       "  'Name': 'Chen',\n",
       "  'age': 15},\n",
       " {'Birth Place': 'Qingdao',\n",
       "  'Interests': ['Painting', 'soccer'],\n",
       "  'Name': 'Tom',\n",
       "  'age': 32},\n",
       " {'Birth Place': 'Shanghai',\n",
       "  'Interests': ['basketball', 'soccer'],\n",
       "  'Name': 'Liu',\n",
       "  'age': 32},\n",
       " {'Birth Place': 'Shanghai',\n",
       "  'Interests': ['basketball', 'soccer'],\n",
       "  'Name': 'Micheal',\n",
       "  'age': 33},\n",
       " {'Birth Place': 'Shanghai',\n",
       "  'Interests': ['basketball', 'soccer'],\n",
       "  'Name': 'Ted',\n",
       "  'age': 43},\n",
       " {'Birth Place': 'Shanghai',\n",
       "  'Interests': ['basketball', 'soccer'],\n",
       "  'Name': 'Johny',\n",
       "  'age': 45},\n",
       " {'Birth Place': 'Shanghai',\n",
       "  'Interests': ['basketball', 'soccer'],\n",
       "  'Name': 'Mike',\n",
       "  'age': 65},\n",
       " {'Birth Place': 'Shanghai',\n",
       "  'Interests': ['basketball', 'soccer'],\n",
       "  'Name': 'Lee',\n",
       "  'age': 77}]"
      ]
     },
     "execution_count": 11,
     "metadata": {},
     "output_type": "execute_result"
    }
   ],
   "source": [
    "plist"
   ]
  },
  {
   "cell_type": "code",
   "execution_count": 13,
   "metadata": {},
   "outputs": [],
   "source": [
    "del plist[1]"
   ]
  },
  {
   "cell_type": "code",
   "execution_count": 14,
   "metadata": {},
   "outputs": [
    {
     "data": {
      "text/plain": [
       "[{'Birth Place': 'Shanghai',\n",
       "  'Interests': ['basketball', 'soccer'],\n",
       "  'Name': 'Lucy',\n",
       "  'age': 11},\n",
       " {'Birth Place': 'Shanghai',\n",
       "  'Interests': ['basketball', 'soccer'],\n",
       "  'Name': 'Chen',\n",
       "  'age': 15},\n",
       " {'Birth Place': 'Qingdao',\n",
       "  'Interests': ['Painting', 'soccer'],\n",
       "  'Name': 'Tom',\n",
       "  'age': 32},\n",
       " {'Birth Place': 'Shanghai',\n",
       "  'Interests': ['basketball', 'soccer'],\n",
       "  'Name': 'Liu',\n",
       "  'age': 32},\n",
       " {'Birth Place': 'Shanghai',\n",
       "  'Interests': ['basketball', 'soccer'],\n",
       "  'Name': 'Micheal',\n",
       "  'age': 33},\n",
       " {'Birth Place': 'Shanghai',\n",
       "  'Interests': ['basketball', 'soccer'],\n",
       "  'Name': 'Ted',\n",
       "  'age': 43},\n",
       " {'Birth Place': 'Shanghai',\n",
       "  'Interests': ['basketball', 'soccer'],\n",
       "  'Name': 'Johny',\n",
       "  'age': 45},\n",
       " {'Birth Place': 'Shanghai',\n",
       "  'Interests': ['basketball', 'soccer'],\n",
       "  'Name': 'Mike',\n",
       "  'age': 65},\n",
       " {'Birth Place': 'Shanghai',\n",
       "  'Interests': ['basketball', 'soccer'],\n",
       "  'Name': 'Lee',\n",
       "  'age': 77}]"
      ]
     },
     "execution_count": 14,
     "metadata": {},
     "output_type": "execute_result"
    }
   ],
   "source": [
    "plist"
   ]
  },
  {
   "cell_type": "code",
   "execution_count": 15,
   "metadata": {},
   "outputs": [
    {
     "ename": "AttributeError",
     "evalue": "'dict' object has no attribute 'Name'",
     "output_type": "error",
     "traceback": [
      "\u001b[1;31m---------------------------------------------------------------------------\u001b[0m",
      "\u001b[1;31mAttributeError\u001b[0m                            Traceback (most recent call last)",
      "\u001b[1;32m<ipython-input-15-36962825f30a>\u001b[0m in \u001b[0;36m<module>\u001b[1;34m()\u001b[0m\n\u001b[1;32m----> 1\u001b[1;33m \u001b[0mplist\u001b[0m\u001b[1;33m[\u001b[0m\u001b[1;36m0\u001b[0m\u001b[1;33m]\u001b[0m\u001b[1;33m.\u001b[0m\u001b[0mName\u001b[0m\u001b[1;33m=\u001b[0m\u001b[1;34m\"Change\"\u001b[0m\u001b[1;33m\u001b[0m\u001b[0m\n\u001b[0m",
      "\u001b[1;31mAttributeError\u001b[0m: 'dict' object has no attribute 'Name'"
     ]
    }
   ],
   "source": [
    "plist[0].get(*=\"Change\""
   ]
  },
  {
   "cell_type": "code",
   "execution_count": null,
   "metadata": {
    "collapsed": true
   },
   "outputs": [],
   "source": []
  }
 ],
 "metadata": {
  "kernelspec": {
   "display_name": "Python 3",
   "language": "python",
   "name": "python3"
  },
  "language_info": {
   "codemirror_mode": {
    "name": "ipython",
    "version": 3
   },
   "file_extension": ".py",
   "mimetype": "text/x-python",
   "name": "python",
   "nbconvert_exporter": "python",
   "pygments_lexer": "ipython3",
   "version": "3.6.2"
  }
 },
 "nbformat": 4,
 "nbformat_minor": 2
}
