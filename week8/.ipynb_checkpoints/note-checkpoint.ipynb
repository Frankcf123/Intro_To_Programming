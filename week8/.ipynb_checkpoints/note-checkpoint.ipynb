{
 "cells": [
  {
   "cell_type": "markdown",
   "metadata": {},
   "source": [
    "# 一. 网络爬虫是什么"
   ]
  },
  {
   "cell_type": "markdown",
   "metadata": {},
   "source": [
    "### 1.常见例子"
   ]
  },
  {
   "cell_type": "markdown",
   "metadata": {},
   "source": [
    "> \n",
    "1.比如你在做一个电商网站，你需要迅速获得及时的价格提醒。最快的方式是什么？一个个网站查搜索？会不会太慢了。 \n",
    "这时候你可以让电脑来帮助你完成这个工作。 \n",
    "2.再比如，你是一个旅游网站。你的旅游信息不够，需要去获取有哪些景点。你就可以直接用爬虫去爬携程的网站\n",
    "3.自媒体的门户平台。 "
   ]
  },
  {
   "cell_type": "markdown",
   "metadata": {},
   "source": [
    "### 2.原理"
   ]
  },
  {
   "cell_type": "markdown",
   "metadata": {},
   "source": [
    ">  解析html文件"
   ]
  },
  {
   "cell_type": "markdown",
   "metadata": {},
   "source": [
    "# 二.Scrapy是什么"
   ]
  },
  {
   "cell_type": "markdown",
   "metadata": {},
   "source": [
    "> \n",
    "Scrapy是一个爬虫的框架就和普通的网站框架功能类似，是一个功能的集合，也可以理解为一个工具包，让你快速的完成任务。 \n",
    "官方文档。 \n",
    "https://doc.scrapy.org/en/latest/intro/tutorial.html\n",
    "\n",
    "> -建议使用pycharm工具"
   ]
  },
  {
   "cell_type": "markdown",
   "metadata": {},
   "source": [
    "# 三.Scrapy安装"
   ]
  },
  {
   "cell_type": "markdown",
   "metadata": {},
   "source": [
    "> conda install -c conda-forge scrapy\n"
   ]
  },
  {
   "cell_type": "markdown",
   "metadata": {},
   "source": [
    "# 四.Scrapy基本命令"
   ]
  },
  {
   "cell_type": "markdown",
   "metadata": {},
   "source": [
    "### 1.scrapy项目创建"
   ]
  },
  {
   "cell_type": "markdown",
   "metadata": {},
   "source": [
    "> scrapy statrtproject firstscrapy\n",
    "    \n"
   ]
  },
  {
   "cell_type": "markdown",
   "metadata": {},
   "source": [
    "### 2.scrapy的命令行演示和执行"
   ]
  },
  {
   "cell_type": "markdown",
   "metadata": {},
   "source": [
    "``` \n",
    "  scrapy shell 'http://quotes.toscrape.com'\n",
    "  response.css('title')\n",
    "  response.css()\n",
    "```"
   ]
  },
  {
   "cell_type": "markdown",
   "metadata": {},
   "source": [
    "### 3.创建spider"
   ]
  },
  {
   "cell_type": "markdown",
   "metadata": {},
   "source": [
    "> scrapy genspider my domain mydomain.com"
   ]
  },
  {
   "cell_type": "markdown",
   "metadata": {},
   "source": [
    "### 4.运行爬虫\n",
    "> scrapy crawl quotes -o quotes.json"
   ]
  },
  {
   "cell_type": "markdown",
   "metadata": {},
   "source": [
    "### 5.其他命令"
   ]
  },
  {
   "cell_type": "markdown",
   "metadata": {},
   "source": [
    ">scrapy list\n"
   ]
  },
  {
   "cell_type": "markdown",
   "metadata": {},
   "source": [
    ">scrapy check\n"
   ]
  },
  {
   "cell_type": "markdown",
   "metadata": {},
   "source": [
    ">scrapy view mydomain.com\n"
   ]
  },
  {
   "cell_type": "code",
   "execution_count": null,
   "metadata": {
    "collapsed": true
   },
   "outputs": [],
   "source": []
  }
 ],
 "metadata": {
  "kernelspec": {
   "display_name": "Python 3",
   "language": "python",
   "name": "python3"
  },
  "language_info": {
   "codemirror_mode": {
    "name": "ipython",
    "version": 3
   },
   "file_extension": ".py",
   "mimetype": "text/x-python",
   "name": "python",
   "nbconvert_exporter": "python",
   "pygments_lexer": "ipython3",
   "version": "3.6.2"
  }
 },
 "nbformat": 4,
 "nbformat_minor": 2
}
