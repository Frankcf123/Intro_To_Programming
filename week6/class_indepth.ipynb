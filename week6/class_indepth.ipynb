{
 "cells": [
  {
   "cell_type": "markdown",
   "metadata": {},
   "source": [
    "# Class中的function"
   ]
  },
  {
   "cell_type": "code",
   "execution_count": 1,
   "metadata": {
    "collapsed": true
   },
   "outputs": [],
   "source": [
    "class Student(object):\n",
    "    version=1.0\n",
    "    def __init__(self,name,score):\n",
    "        self.score=score\n",
    "        self.name=name\n",
    "        \n",
    "    def getLevel(self):\n",
    "        if int(self.score)>80:\n",
    "            return(\"High Distinction\")\n",
    "        elif int(self.score)>70:\n",
    "            return('Distinction')\n",
    "        elif int(self.score)>60:\n",
    "            return('Credit')    \n",
    "        elif int(self.score)>50:\n",
    "            return('Pass')    \n",
    "        else:\n",
    "            return('Fail') \n",
    "    \n",
    "    def getScore(self):\n",
    "        return self.score\n",
    "    \n",
    "    def setScore(self,score):\n",
    "        self.score=score"
   ]
  },
  {
   "cell_type": "code",
   "execution_count": 2,
   "metadata": {
    "collapsed": true
   },
   "outputs": [],
   "source": [
    "s1=Student(\"frank\",123)\n",
    "s2=Student(\"W\",13)\n",
    "s3=Student(\"fk\",123)\n",
    "s4=Student(\"Ca\",123)"
   ]
  },
  {
   "cell_type": "code",
   "execution_count": 4,
   "metadata": {
    "collapsed": true
   },
   "outputs": [],
   "source": [
    "def process(* s):\n",
    "    dic={}\n",
    "    for i in s:\n",
    "        level=i.getLevel()\n",
    "        if level in dic:\n",
    "            dic[level]+=1\n",
    "        else:\n",
    "            dic[level]=1\n",
    "    return dic"
   ]
  },
  {
   "cell_type": "code",
   "execution_count": 6,
   "metadata": {},
   "outputs": [
    {
     "data": {
      "text/plain": [
       "{'Fail': 1, 'High Distinction': 3}"
      ]
     },
     "execution_count": 6,
     "metadata": {},
     "output_type": "execute_result"
    }
   ],
   "source": [
    "process(s1,s2,s3,s4)"
   ]
  },
  {
   "cell_type": "code",
   "execution_count": null,
   "metadata": {
    "collapsed": true
   },
   "outputs": [],
   "source": []
  },
  {
   "cell_type": "markdown",
   "metadata": {},
   "source": [
    "## 2.Subclass Class 继承"
   ]
  },
  {
   "cell_type": "code",
   "execution_count": 44,
   "metadata": {
    "collapsed": true
   },
   "outputs": [],
   "source": [
    "class Monitor(Student):\n",
    "    def __init__(self,name,score,age):\n",
    "        Student.__init__(self,name,score)\n",
    "        self.age=age\n",
    "        \n",
    "    def report(self):\n",
    "        print(\"I have told teacher\")\n",
    "        return"
   ]
  },
  {
   "cell_type": "code",
   "execution_count": 45,
   "metadata": {
    "collapsed": true
   },
   "outputs": [],
   "source": [
    " m=Monitor(\"frank\",100,12)"
   ]
  },
  {
   "cell_type": "code",
   "execution_count": 46,
   "metadata": {},
   "outputs": [
    {
     "data": {
      "text/plain": [
       "'High Distinction'"
      ]
     },
     "execution_count": 46,
     "metadata": {},
     "output_type": "execute_result"
    }
   ],
   "source": [
    "m.getLevel()"
   ]
  },
  {
   "cell_type": "code",
   "execution_count": 47,
   "metadata": {},
   "outputs": [
    {
     "name": "stdout",
     "output_type": "stream",
     "text": [
      "I have told teacher\n"
     ]
    }
   ],
   "source": [
    "m.report()"
   ]
  },
  {
   "cell_type": "markdown",
   "metadata": {
    "collapsed": true
   },
   "source": [
    "## 3.Inner class"
   ]
  },
  {
   "cell_type": "code",
   "execution_count": 7,
   "metadata": {
    "collapsed": true
   },
   "outputs": [],
   "source": [
    "class Person(object):\n",
    "    class job:\n",
    "        def pt(self):\n",
    "            print(\"good job\")\n",
    "    class father:\n",
    "        def __init__(self,name):\n",
    "            self.name=name\n",
    "        def pt(self):\n",
    "            print(\"good dad\")"
   ]
  },
  {
   "cell_type": "code",
   "execution_count": 8,
   "metadata": {},
   "outputs": [
    {
     "name": "stdout",
     "output_type": "stream",
     "text": [
      "good job\n"
     ]
    }
   ],
   "source": [
    "p=Person()\n",
    "j=p.job()\n",
    "j.pt()"
   ]
  },
  {
   "cell_type": "code",
   "execution_count": 9,
   "metadata": {},
   "outputs": [
    {
     "name": "stdout",
     "output_type": "stream",
     "text": [
      "good dad\n"
     ]
    }
   ],
   "source": [
    "f=p.father(\"f\")\n",
    "f.pt()"
   ]
  },
  {
   "cell_type": "code",
   "execution_count": null,
   "metadata": {
    "collapsed": true
   },
   "outputs": [],
   "source": []
  }
 ],
 "metadata": {
  "kernelspec": {
   "display_name": "Python 3",
   "language": "python",
   "name": "python3"
  },
  "language_info": {
   "codemirror_mode": {
    "name": "ipython",
    "version": 3
   },
   "file_extension": ".py",
   "mimetype": "text/x-python",
   "name": "python",
   "nbconvert_exporter": "python",
   "pygments_lexer": "ipython3",
   "version": "3.6.2"
  }
 },
 "nbformat": 4,
 "nbformat_minor": 2
}
