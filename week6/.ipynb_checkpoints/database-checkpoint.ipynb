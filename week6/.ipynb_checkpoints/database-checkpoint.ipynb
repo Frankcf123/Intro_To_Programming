{
 "cells": [
  {
   "cell_type": "markdown",
   "metadata": {},
   "source": [
    "# Homework作业\n",
    "## 按照提示，完成任务\n",
    "```  \n",
    "分数对应等级\n",
    "80-100(High Distinction)\n",
    "70-79(Distinction)\n",
    "60-69(Credit)\n",
    "50-59(Pass)\n",
    "0-49(Fail)\n",
    "```"
   ]
  },
  {
   "cell_type": "code",
   "execution_count": 4,
   "metadata": {
    "collapsed": true
   },
   "outputs": [],
   "source": [
    "class phone(object):\n",
    "    def __init__(self,name,capacity,price):\n",
    "        self.name=name\n",
    "        self.capacity=capacity\n",
    "        self.price=price\n",
    "        \n",
    "    def get_discount(self,discount):\n",
    "        return self.price*discount"
   ]
  },
  {
   "cell_type": "code",
   "execution_count": null,
   "metadata": {
    "collapsed": true
   },
   "outputs": [],
   "source": [
    "class android(phone):\n",
    "    def __init__(self,name,capacity,price,android_version):\n",
    "        phone.__init__(name,capacity,price)\n",
    "        self.android_version=android_version\n",
    "        self.os=\"android\"\n",
    "    \n",
    "    def getOs(self):\n",
    "        return self.os\n",
    "    \n",
    "    def root(self):\n",
    "        if self.android_version>5:\n",
    "            print(\"cannot root\")\n",
    "        else:\n",
    "            print(\"available to root\")"
   ]
  }
 ],
 "metadata": {
  "kernelspec": {
   "display_name": "Python 3",
   "language": "python",
   "name": "python3"
  },
  "language_info": {
   "codemirror_mode": {
    "name": "ipython",
    "version": 3
   },
   "file_extension": ".py",
   "mimetype": "text/x-python",
   "name": "python",
   "nbconvert_exporter": "python",
   "pygments_lexer": "ipython3",
   "version": "3.6.2"
  }
 },
 "nbformat": 4,
 "nbformat_minor": 2
}
