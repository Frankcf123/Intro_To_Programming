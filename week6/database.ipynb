{
 "cells": [
  {
   "cell_type": "markdown",
   "metadata": {},
   "source": [
    "```  \n",
    "SELECT * FROM codingpupils.person;\n",
    "Insert Into codingpupils.person (name,age,language,create_time,update_time,status) values(\"frank\",23,\"en\",\"2017-10-27 21:30:00\",\"2017-10-27 21:30:00\",1)\n",
    "Select * from codingpupils.person where status=0 order by name DESC\n",
    "SET SQL_SAFE_UPDATES=0; \n",
    "DELETE FROM codingpupils.person  WHERE name = 'frank' \n",
    "UPDATE codingpupils.person SET status=1 WHERE name=\"ted\"\n",
    "```"
   ]
  },
  {
   "cell_type": "code",
   "execution_count": 4,
   "metadata": {
    "collapsed": true
   },
   "outputs": [],
   "source": []
  },
  {
   "cell_type": "code",
   "execution_count": null,
   "metadata": {
    "collapsed": true
   },
   "outputs": [],
   "source": []
  }
 ],
 "metadata": {
  "kernelspec": {
   "display_name": "Python 3",
   "language": "python",
   "name": "python3"
  },
  "language_info": {
   "codemirror_mode": {
    "name": "ipython",
    "version": 3
   },
   "file_extension": ".py",
   "mimetype": "text/x-python",
   "name": "python",
   "nbconvert_exporter": "python",
   "pygments_lexer": "ipython3",
   "version": "3.6.2"
  }
 },
 "nbformat": 4,
 "nbformat_minor": 2
}
