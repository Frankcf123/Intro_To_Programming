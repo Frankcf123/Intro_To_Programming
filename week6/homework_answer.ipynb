{
 "cells": [
  {
   "cell_type": "markdown",
   "metadata": {},
   "source": [
    "# Homework作业\n",
    "## 按照提示，完成一个"
   ]
  },
  {
   "cell_type": "code",
   "execution_count": 25,
   "metadata": {
    "collapsed": true
   },
   "outputs": [],
   "source": [
    "# Homework作业\n",
    "## 按照提示，完成一个简单的成绩分析系统\n",
    "```  \n",
    "分数对应等级\n",
    "80-100(High Distinction)\n",
    "70-79(Distinction)\n",
    "60-69(Credit)\n",
    "50-59(Pass)\n",
    "0-49(Fail)\n",
    "```"
   ]
  },
  {
   "cell_type": "code",
   "execution_count": 31,
   "metadata": {},
   "outputs": [],
   "source": [
    "#接受一个int的分数，输出这个人对应的等级\n",
    "def scale_pocess(score):\n",
    "   #if else statement here\n",
    "    if int(score)>80:\n",
    "        return(\"High Distinction\")\n",
    "    elif int(score)>70:\n",
    "        return('Distinction')\n",
    "    elif int(score)>60:\n",
    "        return('Credit')    \n",
    "    elif int(score)>50:\n",
    "        return('Pass')    \n",
    "    else:\n",
    "        return('Fail')\n"
   ]
  },
  {
   "cell_type": "code",
   "execution_count": 32,
   "metadata": {
    "collapsed": true
   },
   "outputs": [],
   "source": [
    "#读取文件(homework.txt)的分数，用forloop或者whileloop循环，输出一个完整|list的分数集合\n",
    "def read_scores(filename):\n",
    "    try:\n",
    "        f=open(filename,'r')\n",
    "    except (IOError):\n",
    "        print('no such file')\n",
    "    ls=[]\n",
    "    for line in f:\n",
    "        ls.append(line)\n",
    "    return ls"
   ]
  },
  {
   "cell_type": "code",
   "execution_count": 33,
   "metadata": {
    "collapsed": true
   },
   "outputs": [],
   "source": [
    "#输入文件名(homework.txt)以及评分标准（前面scale的list），然后使用前面已经完成的scale_process和read_scores方法，统计每个等级各有多少人，并且输出。 \n",
    "#标准输出：\" High Distinction:0,Distinction:12,Credit:123,Pass:3,Fail:1\"\n",
    "def summary(filename):\n",
    "    ls=read_scores(filename)\n",
    "    dic={}\n",
    "    for score in ls:\n",
    "        level=scale_pocess(score)\n",
    "        if level in dic:\n",
    "            dic[level]+=1\n",
    "        else:\n",
    "            dic[level]=0\n",
    "    return dic"
   ]
  },
  {
   "cell_type": "code",
   "execution_count": 34,
   "metadata": {},
   "outputs": [
    {
     "name": "stdout",
     "output_type": "stream",
     "text": [
      "{'F': 10, 'Distinction': 6, 'High Distinction': 12, 'Pass': 10, 'Credit': 7}\n"
     ]
    }
   ],
   "source": [
    "print(summary(file_name))"
   ]
  },
  {
   "cell_type": "code",
   "execution_count": null,
   "metadata": {
    "collapsed": true
   },
   "outputs": [],
   "source": []
  },
  {
   "cell_type": "code",
   "execution_count": null,
   "metadata": {
    "collapsed": true
   },
   "outputs": [],
   "source": []
  }
 ],
 "metadata": {
  "kernelspec": {
   "display_name": "Python 3",
   "language": "python",
   "name": "python3"
  },
  "language_info": {
   "codemirror_mode": {
    "name": "ipython",
    "version": 3
   },
   "file_extension": ".py",
   "mimetype": "text/x-python",
   "name": "python",
   "nbconvert_exporter": "python",
   "pygments_lexer": "ipython3",
   "version": "3.6.2"
  }
 },
 "nbformat": 4,
 "nbformat_minor": 2
}
