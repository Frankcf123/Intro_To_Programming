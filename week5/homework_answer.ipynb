{
 "cells": [
  {
   "cell_type": "markdown",
   "metadata": {},
   "source": [
    "# Week3作业答案\n",
    "\n",
    "> 1.写十个人的object(用class和collection)，包含姓名（String），年龄（Int），出生地（String），兴趣爱好（list）。完成后，将这个10个写好的组合成一个list，按照年龄排好序，并且打印出来\n",
    "\n",
    "> 2.删除位置在第二个的值，再次打印list\n",
    "\n",
    "> 3.修改其中的一个名字，打印完整list"
   ]
  },
  {
   "cell_type": "code",
   "execution_count": 1,
   "metadata": {
    "collapsed": true
   },
   "outputs": [],
   "source": [
    "class person(object):\n",
    "    \n",
    "    def __init__(self,name,age,birthPlace,interests):\n",
    "        self.name=name\n",
    "        self.age=age\n",
    "        self.birthPlace=birthPlace\n",
    "        self.interests=interests"
   ]
  },
  {
   "cell_type": "code",
   "execution_count": 2,
   "metadata": {
    "collapsed": true
   },
   "outputs": [],
   "source": [
    "p1=person(\"Frank\",13,\"Shanghai\",['tennis','swimming'])\n",
    "p2=person(\"Tom\",23,\"Qindao\",[\"basketball\",\"soccer\"])\n",
    "p3=person(\"Lee\",76,\"Shanghai\",[\"basketball\",\"soccer\"])\n",
    "p4=person(\"Lucy\",99,\"Shanghai\",[\"basketball\",\"soccer\"])\n",
    "p5=person(\"Lee\",3,\"Shanghai\",[\"basketball\",\"soccer\"])\n",
    "p6=person(\"Frank\",11,\"Shanghai\",[\"basketball\",\"soccer\"])\n",
    "p7=person(\"Micheal\",22,\"Shanghai\",[\"basketball\",\"soccer\"])\n",
    "p8=person(\"LIu\",56,\"Shanghai\",[\"basketball\",\"soccer\"])\n",
    "p9=person(\"Chen\",15,\"Shanghai\",[\"basketball\",\"soccer\"])\n",
    "p10=person(\"Kevin\",32,\"Shanghai\",[\"basketball\",\"soccer\"])"
   ]
  },
  {
   "cell_type": "code",
   "execution_count": 14,
   "metadata": {
    "collapsed": true
   },
   "outputs": [],
   "source": [
    "plist=list([p1,p2,p3,p4,p5,p6,p7,p8,p9,p10])"
   ]
  },
  {
   "cell_type": "code",
   "execution_count": 15,
   "metadata": {
    "collapsed": true
   },
   "outputs": [],
   "source": [
    "plist.sort(key=lambda x: x.age)"
   ]
  },
  {
   "cell_type": "code",
   "execution_count": 25,
   "metadata": {},
   "outputs": [
    {
     "name": "stdout",
     "output_type": "stream",
     "text": [
      "name:Lee\n",
      "age: 3\n",
      "birthPlace:Shanghai\n",
      "interests: ['basketball', 'soccer']\n",
      "name:Frank\n",
      "age: 11\n",
      "birthPlace:Shanghai\n",
      "interests: ['basketball', 'soccer']\n",
      "name:Frank\n",
      "age: 13\n",
      "birthPlace:Shanghai\n",
      "interests: ['tennis', 'swimming']\n",
      "name:Chen\n",
      "age: 15\n",
      "birthPlace:Shanghai\n",
      "interests: ['basketball', 'soccer']\n",
      "name:Micheal\n",
      "age: 22\n",
      "birthPlace:Shanghai\n",
      "interests: ['basketball', 'soccer']\n",
      "name:Tom\n",
      "age: 23\n",
      "birthPlace:Qindao\n",
      "interests: ['basketball', 'soccer']\n",
      "name:Kevin\n",
      "age: 32\n",
      "birthPlace:Shanghai\n",
      "interests: ['basketball', 'soccer']\n",
      "name:LIu\n",
      "age: 56\n",
      "birthPlace:Shanghai\n",
      "interests: ['basketball', 'soccer']\n",
      "name:Lee\n",
      "age: 76\n",
      "birthPlace:Shanghai\n",
      "interests: ['basketball', 'soccer']\n",
      "name:Lucy\n",
      "age: 99\n",
      "birthPlace:Shanghai\n",
      "interests: ['basketball', 'soccer']\n"
     ]
    }
   ],
   "source": [
    "for p in plist:\n",
    "    print(\"name:\"+p.name)\n",
    "    print(\"age:\",p.age)\n",
    "    print(\"birthPlace:\"+p.birthPlace)\n",
    "    print(\"interests:\",p.interests)\n",
    "  \n"
   ]
  },
  {
   "cell_type": "code",
   "execution_count": 26,
   "metadata": {
    "collapsed": true
   },
   "outputs": [],
   "source": [
    "del plist[1]"
   ]
  },
  {
   "cell_type": "code",
   "execution_count": 27,
   "metadata": {},
   "outputs": [
    {
     "name": "stdout",
     "output_type": "stream",
     "text": [
      "name:Lee\n",
      "age: 3\n",
      "birthPlace:Shanghai\n",
      "interests: ['basketball', 'soccer']\n",
      "name:Frank\n",
      "age: 13\n",
      "birthPlace:Shanghai\n",
      "interests: ['tennis', 'swimming']\n",
      "name:Chen\n",
      "age: 15\n",
      "birthPlace:Shanghai\n",
      "interests: ['basketball', 'soccer']\n",
      "name:Micheal\n",
      "age: 22\n",
      "birthPlace:Shanghai\n",
      "interests: ['basketball', 'soccer']\n",
      "name:Tom\n",
      "age: 23\n",
      "birthPlace:Qindao\n",
      "interests: ['basketball', 'soccer']\n",
      "name:Kevin\n",
      "age: 32\n",
      "birthPlace:Shanghai\n",
      "interests: ['basketball', 'soccer']\n",
      "name:LIu\n",
      "age: 56\n",
      "birthPlace:Shanghai\n",
      "interests: ['basketball', 'soccer']\n",
      "name:Lee\n",
      "age: 76\n",
      "birthPlace:Shanghai\n",
      "interests: ['basketball', 'soccer']\n",
      "name:Lucy\n",
      "age: 99\n",
      "birthPlace:Shanghai\n",
      "interests: ['basketball', 'soccer']\n"
     ]
    }
   ],
   "source": [
    "for p in plist:\n",
    "    print(\"name:\"+p.name)\n",
    "    print(\"age:\",p.age)\n",
    "    print(\"birthPlace:\"+p.birthPlace)\n",
    "    print(\"interests:\",p.interests)\n",
    "  \n"
   ]
  },
  {
   "cell_type": "code",
   "execution_count": 28,
   "metadata": {
    "collapsed": true
   },
   "outputs": [],
   "source": [
    "plist[0].name=\"test\""
   ]
  },
  {
   "cell_type": "code",
   "execution_count": 29,
   "metadata": {},
   "outputs": [
    {
     "name": "stdout",
     "output_type": "stream",
     "text": [
      "name:test\n",
      "age: 3\n",
      "birthPlace:Shanghai\n",
      "interests: ['basketball', 'soccer']\n",
      "name:Frank\n",
      "age: 13\n",
      "birthPlace:Shanghai\n",
      "interests: ['tennis', 'swimming']\n",
      "name:Chen\n",
      "age: 15\n",
      "birthPlace:Shanghai\n",
      "interests: ['basketball', 'soccer']\n",
      "name:Micheal\n",
      "age: 22\n",
      "birthPlace:Shanghai\n",
      "interests: ['basketball', 'soccer']\n",
      "name:Tom\n",
      "age: 23\n",
      "birthPlace:Qindao\n",
      "interests: ['basketball', 'soccer']\n",
      "name:Kevin\n",
      "age: 32\n",
      "birthPlace:Shanghai\n",
      "interests: ['basketball', 'soccer']\n",
      "name:LIu\n",
      "age: 56\n",
      "birthPlace:Shanghai\n",
      "interests: ['basketball', 'soccer']\n",
      "name:Lee\n",
      "age: 76\n",
      "birthPlace:Shanghai\n",
      "interests: ['basketball', 'soccer']\n",
      "name:Lucy\n",
      "age: 99\n",
      "birthPlace:Shanghai\n",
      "interests: ['basketball', 'soccer']\n"
     ]
    }
   ],
   "source": [
    "for p in plist:\n",
    "    print(\"name:\"+p.name)\n",
    "    print(\"age:\",p.age)\n",
    "    print(\"birthPlace:\"+p.birthPlace)\n",
    "    print(\"interests:\",p.interests)\n",
    "  "
   ]
  },
  {
   "cell_type": "code",
   "execution_count": null,
   "metadata": {
    "collapsed": true
   },
   "outputs": [],
   "source": []
  }
 ],
 "metadata": {
  "kernelspec": {
   "display_name": "Python 3",
   "language": "python",
   "name": "python3"
  },
  "language_info": {
   "codemirror_mode": {
    "name": "ipython",
    "version": 3
   },
   "file_extension": ".py",
   "mimetype": "text/x-python",
   "name": "python",
   "nbconvert_exporter": "python",
   "pygments_lexer": "ipython3",
   "version": "3.6.2"
  }
 },
 "nbformat": 4,
 "nbformat_minor": 2
}
