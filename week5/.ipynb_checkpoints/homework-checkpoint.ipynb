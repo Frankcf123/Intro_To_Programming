{
 "cells": [
  {
   "cell_type": "markdown",
   "metadata": {},
   "source": [
    "# Homework作业\n",
    "## 按照提示，完成一个"
   ]
  },
  {
   "cell_type": "code",
   "execution_count": 6,
   "metadata": {
    "collapsed": true
   },
   "outputs": [],
   "source": [
    "scale_level={\"High Distinction\":80,\"Distinction\":70,\"Credit\":60,\"Pass\":50,\"Fail\":0}\n",
    "file_name=\"homework.txt\"\n",
    "\n",
    "# 这里列举了达到这个等级的最低分数，比如成绩大于（或等于）80，那么这个人就是High Distinction。比如：\n",
    "#85(High Distinction),76(Distinction).65(Credit),51(Pass),49(Fail)"
   ]
  },
  {
   "cell_type": "code",
   "execution_count": 7,
   "metadata": {
    "collapsed": true
   },
   "outputs": [],
   "source": [
    "#接受一个int的分数，输出这个人对应的等级\n",
    "def scale_pocess(score):\n",
    "   #if else statement here\n",
    "    return"
   ]
  },
  {
   "cell_type": "code",
   "execution_count": 8,
   "metadata": {
    "collapsed": true
   },
   "outputs": [],
   "source": [
    "#读取文件(homework.txt)的分数，用forloop或者whileloop循环，输出一个完整|list的分数集合\n",
    "def read_scores(filename):\n",
    "    return"
   ]
  },
  {
   "cell_type": "code",
   "execution_count": 9,
   "metadata": {
    "collapsed": true
   },
   "outputs": [],
   "source": [
    "#输入文件名(homework.txt)以及评分标准（前面scale的list），然后使用前面已经完成的scale_process和read_scores方法，统计每个等级各有多少人，并且输出。 \n",
    "#标准输出：\" High Distinction:0,Distinction:12,Credit:123,Pass:3,Fail:1\"\n",
    "def summary(filename):\n",
    "    return"
   ]
  },
  {
   "cell_type": "code",
   "execution_count": null,
   "metadata": {
    "collapsed": true
   },
   "outputs": [],
   "source": [
    "summary()"
   ]
  }
 ],
 "metadata": {
  "kernelspec": {
   "display_name": "Python 3",
   "language": "python",
   "name": "python3"
  },
  "language_info": {
   "codemirror_mode": {
    "name": "ipython",
    "version": 3
   },
   "file_extension": ".py",
   "mimetype": "text/x-python",
   "name": "python",
   "nbconvert_exporter": "python",
   "pygments_lexer": "ipython3",
   "version": "3.6.2"
  }
 },
 "nbformat": 4,
 "nbformat_minor": 2
}
