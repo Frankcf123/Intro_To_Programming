{
 "cells": [
  {
   "cell_type": "markdown",
   "metadata": {},
   "source": [
    "# 排序\n",
    "## 1.冒泡排序(Bubble Sort)\n",
    "```  \n",
    "它重复地走访过要排序的数列，一次比较两个元素，如果他们的顺序错误就把他们交换过来。走访数列的工作是重复地进行直到没有再需要交换，也就是说该数列已经排序完成。\n",
    "```"
   ]
  },
  {
   "cell_type": "code",
   "execution_count": 25,
   "metadata": {
    "collapsed": true
   },
   "outputs": [],
   "source": [
    "p1={\"name\":\"frank\",\"age\":12}\n",
    "p2={\"name\":\"Kevin\",\"age\":32}\n",
    "p3={\"name\":\"Jimmy\",\"age\":22}\n",
    "p4={\"name\":\"Ted\",\"age\":2}\n",
    "pl=[p1,p2,p3,p4]"
   ]
  },
  {
   "cell_type": "code",
   "execution_count": 27,
   "metadata": {},
   "outputs": [
    {
     "name": "stdout",
     "output_type": "stream",
     "text": [
      "[{'name': 'Ted', 'age': 2}, {'name': 'frank', 'age': 12}, {'name': 'Jimmy', 'age': 22}, {'name': 'Kevin', 'age': 32}]\n"
     ]
    }
   ],
   "source": [
    "for i in range(4):\n",
    "    for k in range(i,3):\n",
    "        if(pl[k]['age']>pl[k+1]['age']):\n",
    "            t=pl[k]\n",
    "            pl[k]=pl[k+1]\n",
    "            pl[k+1]=t\n",
    "\n",
    "print(pl)"
   ]
  },
  {
   "cell_type": "code",
   "execution_count": null,
   "metadata": {
    "collapsed": true
   },
   "outputs": [],
   "source": [
    "a:12,22,2,32\n",
    "b:12,2,22,32\n",
    "c:2,12,22,32"
   ]
  },
  {
   "cell_type": "code",
   "execution_count": null,
   "metadata": {
    "collapsed": true
   },
   "outputs": [],
   "source": []
  }
 ],
 "metadata": {
  "kernelspec": {
   "display_name": "Python 3",
   "language": "python",
   "name": "python3"
  },
  "language_info": {
   "codemirror_mode": {
    "name": "ipython",
    "version": 3
   },
   "file_extension": ".py",
   "mimetype": "text/x-python",
   "name": "python",
   "nbconvert_exporter": "python",
   "pygments_lexer": "ipython3",
   "version": "3.6.2"
  }
 },
 "nbformat": 4,
 "nbformat_minor": 2
}
