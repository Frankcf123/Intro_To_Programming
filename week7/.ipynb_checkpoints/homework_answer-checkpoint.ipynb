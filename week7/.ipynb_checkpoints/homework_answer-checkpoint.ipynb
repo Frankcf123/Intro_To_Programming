{
 "cells": [
  {
   "cell_type": "markdown",
   "metadata": {},
   "source": [
    "# 作业"
   ]
  },
  {
   "cell_type": "markdown",
   "metadata": {},
   "source": [
    "## 1.定义一个person的class\n",
    "```  \n",
    "    -参数：name，age\n",
    "    -函数：toList（将姓名年龄到处成dict的格式）,study（打印出“正在学习”）\n",
    "```"
   ]
  },
  {
   "cell_type": "code",
   "execution_count": 11,
   "metadata": {
    "collapsed": true
   },
   "outputs": [],
   "source": [
    "class Person(object):\n",
    "    def __init__(self,name,age):\n",
    "        self.age=age\n",
    "        self.name=name\n",
    "        \n",
    "    def toList(self):\n",
    "        return {\"name\":self.name,\"age\":self.age}\n",
    "    \n",
    "    def study(self):\n",
    "        print(\"start studying\")"
   ]
  },
  {
   "cell_type": "markdown",
   "metadata": {},
   "source": [
    "## 2.定义一个Employee的class，并且继承Person的class\n",
    "```  \n",
    "    -参数：name，age,salary,position_level(1-10)\n",
    "    -函数：promote（postion level等级晋升，即加1）,work（打印出正在工作）\n",
    "```"
   ]
  },
  {
   "cell_type": "code",
   "execution_count": 12,
   "metadata": {
    "collapsed": true
   },
   "outputs": [],
   "source": [
    "class Employee(Person):\n",
    "    def __init__(self,name,age,salary,position_level):\n",
    "        self.position_level=position_level\n",
    "        self.saalary=salary\n",
    "        \n",
    "    def promote(self):\n",
    "        self.position_level=position_level\n",
    "        \n",
    "    def work(self):\n",
    "        print(\"start working\")"
   ]
  },
  {
   "cell_type": "markdown",
   "metadata": {},
   "source": [
    "## 3.定义一个Employee的class，并且继承Person的class\n",
    "```  \n",
    "    -参数：name，age,salary,position_name(postion的名字)\n",
    "    -函数：mange（postion level等级晋升，即加1）,manage（打印开始管理）\n",
    "```"
   ]
  },
  {
   "cell_type": "code",
   "execution_count": 18,
   "metadata": {
    "collapsed": true
   },
   "outputs": [],
   "source": [
    "class Employer(Person):\n",
    "    def __init__(self,name,age,salary,position_level):\n",
    "        self.position_level=position_level\n",
    "        self.saalary=salary\n",
    "        \n",
    "    def manage(self):\n",
    "        print(\"start managing\")"
   ]
  },
  {
   "cell_type": "markdown",
   "metadata": {},
   "source": [
    "## 4.创建一个employer和employee的类，并且尝试使用内置方法比较不同"
   ]
  },
  {
   "cell_type": "code",
   "execution_count": 15,
   "metadata": {
    "collapsed": true
   },
   "outputs": [],
   "source": [
    "er=Employer(\"ceshi\",12,123,2)"
   ]
  },
  {
   "cell_type": "code",
   "execution_count": 17,
   "metadata": {},
   "outputs": [
    {
     "name": "stdout",
     "output_type": "stream",
     "text": [
      "start managing\n"
     ]
    }
   ],
   "source": [
    "er.work()"
   ]
  },
  {
   "cell_type": "markdown",
   "metadata": {
    "collapsed": true
   },
   "source": [
    "## 5.挑战：找一个合适的可以用到的recursion的场景，并应用"
   ]
  },
  {
   "cell_type": "code",
   "execution_count": null,
   "metadata": {
    "collapsed": true
   },
   "outputs": [],
   "source": []
  }
 ],
 "metadata": {
  "kernelspec": {
   "display_name": "Python 3",
   "language": "python",
   "name": "python3"
  },
  "language_info": {
   "codemirror_mode": {
    "name": "ipython",
    "version": 3
   },
   "file_extension": ".py",
   "mimetype": "text/x-python",
   "name": "python",
   "nbconvert_exporter": "python",
   "pygments_lexer": "ipython3",
   "version": "3.6.2"
  }
 },
 "nbformat": 4,
 "nbformat_minor": 2
}
