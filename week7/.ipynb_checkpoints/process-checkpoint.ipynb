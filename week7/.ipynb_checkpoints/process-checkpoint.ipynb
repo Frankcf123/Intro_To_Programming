{
 "cells": [
  {
   "cell_type": "markdown",
   "metadata": {},
   "source": [
    "#  单词MP3自动生成器\n",
    "```  \n",
    "1.效果：输入一个包含英文单词的txt,每个单词见用逗号隔开，导出一个读音的mp3\n",
    "2.配置需求：pydub，numpy(可选),python3 （用conda安装，conda没有就用pip安装，这两天清华源时不时抽风）\n",
    "3.单词下载: http://pan.baidu.com/pcloud/album/info?uk=1241992571&album_id=9141079221631898501\n",
    "4.原理：将多个小的mp3合成一个综合的mp3\n",
    "\n",
    "```"
   ]
  },
  {
   "cell_type": "code",
   "execution_count": 2,
   "metadata": {
    "collapsed": true
   },
   "outputs": [],
   "source": [
    "from pydub import AudioSegment\n",
    "import numpy as np"
   ]
  },
  {
   "cell_type": "code",
   "execution_count": 2,
   "metadata": {
    "collapsed": true
   },
   "outputs": [],
   "source": [
    "#Parameters"
   ]
  },
  {
   "cell_type": "code",
   "execution_count": 3,
   "metadata": {
    "collapsed": true
   },
   "outputs": [],
   "source": [
    "input_folder=\"input/\"\n",
    "input_list=\"word_1.txt\"\n",
    "slient_duration=500 # 5s，你想要每个单词之前停多久\n",
    "target_folder=\"output/\"\n",
    "target_file=\"test.mp3\"\n",
    "audio_folder=\"words/\" #所有的单词的语音库的位置"
   ]
  },
  {
   "cell_type": "code",
   "execution_count": 4,
   "metadata": {
    "collapsed": true
   },
   "outputs": [],
   "source": [
    "#Word list process"
   ]
  },
  {
   "cell_type": "code",
   "execution_count": 5,
   "metadata": {
    "scrolled": true
   },
   "outputs": [
    {
     "name": "stdout",
     "output_type": "stream",
     "text": [
      "['fill' 'cent' 'epoch' 'site' 'echo' 'hall' 'bright' 'borrow' 'composition'\n",
      " 'cape' 'pedestrian' 'colossal' 'muscular' 'tube' 'wing' 'wolf' 'inference'\n",
      " 'strip' 'clay' 'thaw' 'groom' 'gotta' 'sack' 'twinkle' 'pigment' 'equator'\n",
      " 'haven' 'pulse' 'fidelity' 'beneath' 'opaque' 'mild' 'pump' 'emit' 'mold'\n",
      " 'squeal' 'elf' 'grad' 'prayer' 'stony' 'mouthful' 'barn' 'soak' 'crucial'\n",
      " 'lamp' 'erect' 'hood' 'cargo' 'heyday' 'ranch' 'clip' 'respiration' 'hind'\n",
      " 'tide' 'coil' 'ladder' 'tidy' 'bulletin' 'ivory' 'playwright' 'shoelace'\n",
      " 'stake' 'puddle' 'rarity' 'rider' 'satire' 'immortal' 'perspire' 'violet'\n",
      " 'craze' 'dwelling' 'scary' 'bleak' 'thickly' 'axis' 'flame' 'monumental'\n",
      " 'basel' 'endowment' 'herd' 'thickness' 'soot' 'marble' 'desolate' 'streak'\n",
      " 'boast' 'patch' 'quill' 'scrape']\n"
     ]
    }
   ],
   "source": [
    "input_file=input_folder+input_list\n",
    "word_list=np.genfromtxt(input_file,delimiter=\",\", dtype='U')\n",
    "print(word_list)"
   ]
  },
  {
   "cell_type": "code",
   "execution_count": 6,
   "metadata": {
    "collapsed": true
   },
   "outputs": [],
   "source": [
    "#music output process"
   ]
  },
  {
   "cell_type": "code",
   "execution_count": 7,
   "metadata": {
    "collapsed": true
   },
   "outputs": [],
   "source": [
    "slient=AudioSegment.silent(duration=slient_duration)#创建一个slient的5秒语音\n",
    "song=slient \n",
    "target=target_folder+target_file\n",
    "for word in word_list:\n",
    "    \n",
    "    file_path=audio_folder+word.strip()+\".mp3\" #strip清楚前后可能的空格\n",
    "    audio_song= AudioSegment.from_file(file_path)\n",
    "    song =song + audio_song+slient\n"
   ]
  },
  {
   "cell_type": "code",
   "execution_count": 8,
   "metadata": {},
   "outputs": [
    {
     "data": {
      "text/plain": [
       "<_io.BufferedRandom name='output/test.mp3'>"
      ]
     },
     "execution_count": 8,
     "metadata": {},
     "output_type": "execute_result"
    }
   ],
   "source": [
    "song.export(target, format=\"mp3\")"
   ]
  },
  {
   "cell_type": "code",
   "execution_count": null,
   "metadata": {
    "collapsed": true
   },
   "outputs": [],
   "source": []
  },
  {
   "cell_type": "markdown",
   "metadata": {
    "collapsed": true
   },
   "source": [
    "# 弊端和可以改进\n",
    "```  \n",
    "1.音质欠佳，很多平台可能会因为音质太低无法上传\n",
    "2.单词list不是很完成，有时候遇到词组和复杂单词无法生成。可以设置自动补全和生成那些两个词的词组\n",
    "3.操作起来比较麻烦。\n",
    "\n",
    "```"
   ]
  },
  {
   "cell_type": "code",
   "execution_count": null,
   "metadata": {
    "collapsed": true
   },
   "outputs": [],
   "source": []
  }
 ],
 "metadata": {
  "kernelspec": {
   "display_name": "Python 3",
   "language": "python",
   "name": "python3"
  },
  "language_info": {
   "codemirror_mode": {
    "name": "ipython",
    "version": 3
   },
   "file_extension": ".py",
   "mimetype": "text/x-python",
   "name": "python",
   "nbconvert_exporter": "python",
   "pygments_lexer": "ipython3",
   "version": "3.6.2"
  }
 },
 "nbformat": 4,
 "nbformat_minor": 2
}
